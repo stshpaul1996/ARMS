{
 "cells": [
  {
   "cell_type": "code",
   "execution_count": 1,
   "id": "466d8b51",
   "metadata": {},
   "outputs": [
    {
     "name": "stdout",
     "output_type": "stream",
     "text": [
      "['base', 'ball']\n"
     ]
    }
   ],
   "source": [
    "#1) input: [\"baseball\",\"b,bas,ba,all,base,seb,ball\"]\n",
    "#output:base,ball\n",
    "#split the first input based on the longest possibility match in second input\n",
    "\n",
    "def main(word,str):\n",
    "    str.sort(key=len,reverse=True)\n",
    "    output=[]\n",
    "    for i in str:\n",
    "        if i in word:\n",
    "            output.append(i)\n",
    "            word=word.replace(i,\"\")\n",
    "    return output\n",
    "\n",
    "a=\"baseball\"\n",
    "b=[\"b\",\"bas\",\"ba\",\"all\",\"base\",\"seb\",\"ball\"]\n",
    "res=main(a,b)\n",
    "print(res)\n",
    "\n",
    "\n"
   ]
  },
  {
   "cell_type": "code",
   "execution_count": 7,
   "id": "3d525db8",
   "metadata": {},
   "outputs": [
    {
     "name": "stdout",
     "output_type": "stream",
     "text": [
      "x value= 10\n",
      "y value= 100\n",
      "z value= 1000\n"
     ]
    }
   ],
   "source": [
    "#2) write two best scenarios where inheritance can be used. Note: don't simply say that we can call parent class methods and attributes\n",
    "class Exam:\n",
    "    def __init__(self,x,y):\n",
    "        self.x=x\n",
    "        self.y=y\n",
    "\n",
    "class Result(Exam):\n",
    "    def __init__(self,x,y,z):\n",
    "        super().__init__(x,y)\n",
    "        self.z=z\n",
    "        print(\"x value=\",self.x)\n",
    "        print(\"y value=\",self.y)\n",
    "        print(\"z value=\",self.z)\n",
    "r=Result(10,100,1000)   \n",
    "\n",
    "1) inheriting common code from base class to remaining classes is called inheritance. then we can reduce the duplicate code.\n",
    "2) inheritance is benefical for representing different types of \n",
    "\n"
   ]
  },
  {
   "cell_type": "code",
   "execution_count": 4,
   "id": "1e019b88",
   "metadata": {},
   "outputs": [
    {
     "ename": "SyntaxError",
     "evalue": "unmatched ')' (4149305289.py, line 1)",
     "output_type": "error",
     "traceback": [
      "\u001b[1;36m  Cell \u001b[1;32mIn[4], line 1\u001b[1;36m\u001b[0m\n\u001b[1;33m    3)\u001b[0m\n\u001b[1;37m     ^\u001b[0m\n\u001b[1;31mSyntaxError\u001b[0m\u001b[1;31m:\u001b[0m unmatched ')'\n"
     ]
    }
   ],
   "source": [
    "#3) consider that you got a django application (customer) in github, that can be used in your project. \n",
    "#it has customer model fields(name,address). the existing model will not verify for special symbols of customer name field. \n",
    "#Use customer model and provide name validation for special symbols and add phone and emails fields.\n",
    "\n",
    "from django.db.models import Customer\n",
    "\n",
    "class Requirement(Customer):\n",
    "    customer=models.OnetoOneFiled(Customer,on_delete=models.CASCADE)\n",
    "    phone=models.CharField(max_length=50)\n",
    "    email=models.CharField(max_length=100)\n",
    "    \n",
    "    def customer_name(value):\n",
    "        special_symbols=\"!@#$%^&*':`\"\n",
    "        if any(i in special_symbols for i in value):\n",
    "            raise ValidationError(\"Name cannot contain special symbols\")\n",
    "    \n",
    "inside database Customer table and Requiremet tables will be created. inside Customer table customer related fields will be there \n",
    "with the our provided validation in the name field.\n",
    "inside Requirements table phone number field, email field and Customer_id (foreign key reference)\n",
    "\n",
    "    "
   ]
  },
  {
   "cell_type": "code",
   "execution_count": null,
   "id": "ca366f53",
   "metadata": {},
   "outputs": [],
   "source": [
    "4) what is the best way handle the errors in djangorestapi, marks will be considered based on the scenarios covered.\n",
    "in django we can handle errors by using raise keyword.\n",
    "By using HTTP stauts code we can handle the errors in djangorestframework\n",
    "example:201 created,200 ok,404 pagenotfound,400 Badrequest\n",
    "We can use message framework also can handle the errors in django\n",
    "\n",
    "  Middlewares and logfiles :\n",
    "   \n",
    "   Middleware :\n",
    "   if django raise an error as developer we can understand that but user cannot so we need to provide proper message for the user. Before hitting the view request will hit middleware function and post response will pass throgh a midllerware. it is the pre and post porcess of the request. We can send proper error msg for user thorgh middle ware. \n",
    "\n",
    "if database related error raise all information related to database user can see. Instead of that we can pass error msg throgh middleware. and if one or two eceptions \n",
    "we can handle . if we dont no how many exceptions will raise for our application inthat scenerio we can use middleware function\n",
    "\n",
    "if we have no of views in our application we need to handle error for all our views. there are some common error(500,404,400) so for handle these errors wee need to write code in all views present in our django application. So  we can write single error handling code in midlle ware for all our views . \n",
    "\n",
    "logfiles:\n",
    "\n",
    "logsfile are written for understand the application behavior. We mantain single log file for entire application . we can provide any message throgh logfiles to user.\n",
    "\n",
    "import logging\n",
    "log = logging.getLogger(__name__)\n",
    "\n",
    "log.errr(\"proper message\")-------> it call when our view got an error. and sends a proper message to logfile\n"
   ]
  },
  {
   "cell_type": "code",
   "execution_count": 23,
   "id": "2dd22e4a",
   "metadata": {},
   "outputs": [
    {
     "name": "stdout",
     "output_type": "stream",
     "text": [
      "[1000, 1000, 'abc', 'de', [3000, 1000]]\n"
     ]
    }
   ],
   "source": [
    "#5) Draw memory organization diagram for the below code and write answer for print statement\n",
    "a=1000\n",
    "b=a\n",
    "k=[a,b]\n",
    "S=\"abc\"\n",
    "L=[a,b,S,\"de\",k]\n",
    "L[-1][0]=3000\n",
    "print(L)\n"
   ]
  },
  {
   "cell_type": "code",
   "execution_count": 4,
   "id": "c3693a7d",
   "metadata": {},
   "outputs": [
    {
     "name": "stdout",
     "output_type": "stream",
     "text": [
      "2190850238736\n",
      "2190850238736\n"
     ]
    }
   ],
   "source": [
    "#6) Define class can be create only one object. if the user create second object then it should return the first object.\n",
    "\n",
    "class First:\n",
    "    var=None\n",
    "    def __new__(self):\n",
    "        if self.var is None:\n",
    "            self.var=super(First,self).__new__(self)\n",
    "        return self.var\n",
    "a=First()\n",
    "b=First()\n",
    "print(id(a))\n",
    "print(id(b))\n",
    "\n"
   ]
  },
  {
   "cell_type": "code",
   "execution_count": 11,
   "id": "ce3bd748",
   "metadata": {},
   "outputs": [
    {
     "ename": "SyntaxError",
     "evalue": "invalid syntax (2916277419.py, line 18)",
     "output_type": "error",
     "traceback": [
      "\u001b[1;36m  Cell \u001b[1;32mIn[11], line 18\u001b[1;36m\u001b[0m\n\u001b[1;33m    output:\u001b[0m\n\u001b[1;37m           ^\u001b[0m\n\u001b[1;31mSyntaxError\u001b[0m\u001b[1;31m:\u001b[0m invalid syntax\n"
     ]
    }
   ],
   "source": [
    "#7) write an output for below code.\n",
    "print(\"hello\")\n",
    "def fun():\n",
    "    try:\n",
    "        for i in range(-3,10,3):\n",
    "            print(i)\n",
    "            break\n",
    "            print(\"hi\")\n",
    "        else:\n",
    "            print(\"this is else block\")\n",
    "    except Exception as err:\n",
    "        print(err)\n",
    "    finally:\n",
    "        print(\"this is finally\")\n",
    "    print(\"hi!@#\")\n",
    "    return 20\n",
    "print(fun())\n",
    "output:\n",
    "hello\n",
    "-3\n",
    "this is finally\n",
    "hi!@#\n",
    "20"
   ]
  },
  {
   "cell_type": "code",
   "execution_count": 5,
   "id": "8ca8830c",
   "metadata": {},
   "outputs": [
    {
     "ename": "SyntaxError",
     "evalue": "unmatched ')' (986935857.py, line 1)",
     "output_type": "error",
     "traceback": [
      "\u001b[1;36m  Cell \u001b[1;32mIn[5], line 1\u001b[1;36m\u001b[0m\n\u001b[1;33m    8)\u001b[0m\n\u001b[1;37m     ^\u001b[0m\n\u001b[1;31mSyntaxError\u001b[0m\u001b[1;31m:\u001b[0m unmatched ')'\n"
     ]
    }
   ],
   "source": [
    "8) Explain how django rest framework authentication and authorization can be override.\n",
    "1) first we have to perform authentication after that we have to perfrom authorization.\n",
    "authorization class we have to write inside authorization.py file inside application folder.\n",
    "and next we have to import \n",
    "from rest_framework.authentication import TokenAuthentiation\n",
    "django restframework provides several permission classes to peform authorization like allowany,isauthenticated,isadminuser,djagnomodelpermissions\n",
    "and next we have to create authentication class is the child class of TokenAuthentication class\n",
    "and next we have to override authenticate() method\n"
   ]
  },
  {
   "cell_type": "code",
   "execution_count": 12,
   "id": "e06d2165",
   "metadata": {},
   "outputs": [
    {
     "ename": "SyntaxError",
     "evalue": "unmatched ')' (148600234.py, line 1)",
     "output_type": "error",
     "traceback": [
      "\u001b[1;36m  Cell \u001b[1;32mIn[12], line 1\u001b[1;36m\u001b[0m\n\u001b[1;33m    9) what are all the ways we have to develop an api with django rest framework. Talk about different classes we can use to develop api\u001b[0m\n\u001b[1;37m     ^\u001b[0m\n\u001b[1;31mSyntaxError\u001b[0m\u001b[1;31m:\u001b[0m unmatched ')'\n"
     ]
    }
   ],
   "source": [
    "9) what are all the ways we have to develop an api with django rest framework. Talk about different classes we can use to develop api\n",
    "1) by using django rest framework we can develop apis very easily effectively.\n",
    "2) django rest framework provide 2 view classes to develop api's\n",
    "3) by using APIView class we can develop apis. APIView class is available inside views module.\n",
    "inside APIView we have to use get(),post(),put(),patch(),delete() methods we have to use.\n",
    "4) by using ViewSet class we can develop apis. ViewSet class available inside viewsets moudle.\n",
    "inside Viewset class we have to use \n",
    "list(),crete(),update(),delete() methods we have to use.\n",
    "if we use modelviewset then we don't need to write any methods()\n",
    "5) by using generic views also we can develop apis. generic view contains \n",
    "ListAPIView,CreateAPIView,RetrieveAPIview,UpdateAPIView,destroyAPIView,ListCreateAPIView,RetrieveUpdateAPIView,\n",
    "these all classes are available inside generic module.\n",
    "\n"
   ]
  },
  {
   "cell_type": "code",
   "execution_count": null,
   "id": "9357e780",
   "metadata": {},
   "outputs": [],
   "source": [
    "10) \n",
    "1) sales orders of \"p1\"\n",
    "2) purchase orders of \"p2\"\n",
    "3) total purchase orders of \"p1\"\n",
    "4) profit wise sorted products\n",
    "\n",
    "from app.models import PurchaseOrder\n",
    "sales_order_p1=Salesorder.objects.filter(product_id=id)\n",
    "\n",
    "purchase_order_p2=PurchaseOrder.objects.filter(product_id=id)\n",
    "\n",
    "total_purchase_order_1=PuchaseOrder.objects.filter(product_id=id).aggregate(total_amount=sum(\"amount\"))['total_amount']\n",
    "\n",
    "from app.models import Product\n",
    "profite_wise=SalesOrders.objects.values(\"product_id\").annotate(total_sales=Sum(F(\"quantity\")*F(\"product_price\")))\n"
   ]
  }
 ],
 "metadata": {
  "kernelspec": {
   "display_name": "Python 3 (ipykernel)",
   "language": "python",
   "name": "python3"
  },
  "language_info": {
   "codemirror_mode": {
    "name": "ipython",
    "version": 3
   },
   "file_extension": ".py",
   "mimetype": "text/x-python",
   "name": "python",
   "nbconvert_exporter": "python",
   "pygments_lexer": "ipython3",
   "version": "3.11.5"
  }
 },
 "nbformat": 4,
 "nbformat_minor": 5
}
