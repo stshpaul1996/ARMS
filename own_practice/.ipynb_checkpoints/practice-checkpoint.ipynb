{
 "cells": [
  {
   "cell_type": "code",
   "execution_count": 1,
   "id": "863f2c7d",
   "metadata": {},
   "outputs": [
    {
     "name": "stdout",
     "output_type": "stream",
     "text": [
      "[1, 2, 3, 4]\n"
     ]
    }
   ],
   "source": [
    "a=[1,2,2,3,3,3,4]\n",
    "s =set(a)\n",
    "l =list(s)\n",
    "print(l)\n",
    "\n",
    "    "
   ]
  },
  {
   "cell_type": "code",
   "execution_count": 4,
   "id": "dfde0aaa",
   "metadata": {},
   "outputs": [
    {
     "name": "stdout",
     "output_type": "stream",
     "text": [
      "enter any number: 11\n",
      "prime number\n"
     ]
    }
   ],
   "source": [
    "n = int(input(\"enter any number: \"))\n",
    "for i in range(2,n):\n",
    "    if n % i == 0:\n",
    "        print(\"non prime\")\n",
    "        break\n",
    "else:\n",
    "    print(\"prime number\")"
   ]
  },
  {
   "cell_type": "code",
   "execution_count": 5,
   "id": "f956ffa5",
   "metadata": {},
   "outputs": [
    {
     "ename": "AttributeError",
     "evalue": "'B' object has no attribute 'add'",
     "output_type": "error",
     "traceback": [
      "\u001b[1;31m---------------------------------------------------------------------------\u001b[0m",
      "\u001b[1;31mAttributeError\u001b[0m                            Traceback (most recent call last)",
      "Cell \u001b[1;32mIn[5], line 20\u001b[0m\n\u001b[0;32m     18\u001b[0m         \u001b[38;5;28mprint\u001b[39m(\u001b[38;5;28mcls\u001b[39m\u001b[38;5;241m.\u001b[39mb2)\n\u001b[0;32m     19\u001b[0m D \u001b[38;5;241m=\u001b[39m B()\n\u001b[1;32m---> 20\u001b[0m D\u001b[38;5;241m.\u001b[39madd()\n\u001b[0;32m     21\u001b[0m D\u001b[38;5;241m.\u001b[39madd1()\n\u001b[0;32m     22\u001b[0m D\u001b[38;5;241m.\u001b[39madd2()\n",
      "\u001b[1;31mAttributeError\u001b[0m: 'B' object has no attribute 'add'"
     ]
    }
   ],
   "source": [
    "class A:\n",
    "    a = 2\n",
    "    b = 3\n",
    "    def add(cls):\n",
    "        print(cls.a)\n",
    "        print(cls.b)\n",
    "class B:\n",
    "    a1 = 22\n",
    "    b1 = 33\n",
    "    def add1(cls):\n",
    "        print(cls.a1)\n",
    "        print(cls.b1)\n",
    "class C(A,B):\n",
    "    a2 = 222\n",
    "    b2 = 333\n",
    "    def add2(cls):\n",
    "        print(cls.a2)\n",
    "        print(cls.b2)\n",
    "D = C()\n",
    "D.add()\n",
    "D.add1()\n",
    "D.add2()"
   ]
  },
  {
   "cell_type": "code",
   "execution_count": null,
   "id": "cd3faf07",
   "metadata": {},
   "outputs": [],
   "source": []
  },
  {
   "cell_type": "code",
   "execution_count": null,
   "id": "eaba96f9",
   "metadata": {},
   "outputs": [],
   "source": []
  },
  {
   "cell_type": "code",
   "execution_count": null,
   "id": "0dd9cb1d",
   "metadata": {},
   "outputs": [],
   "source": []
  }
 ],
 "metadata": {
  "kernelspec": {
   "display_name": "Python 3 (ipykernel)",
   "language": "python",
   "name": "python3"
  },
  "language_info": {
   "codemirror_mode": {
    "name": "ipython",
    "version": 3
   },
   "file_extension": ".py",
   "mimetype": "text/x-python",
   "name": "python",
   "nbconvert_exporter": "python",
   "pygments_lexer": "ipython3",
   "version": "3.11.5"
  }
 },
 "nbformat": 4,
 "nbformat_minor": 5
}
