{
 "cells": [
  {
   "cell_type": "code",
   "execution_count": 7,
   "id": "863f2c7d",
   "metadata": {},
   "outputs": [
    {
     "name": "stdout",
     "output_type": "stream",
     "text": [
      "[3, 1, 2, 10, 20, 30, 40, 50, 70, 80, 90, 60, 100]\n"
     ]
    }
   ],
   "source": [
    "#a=[3,[1,2],[10,20,[30,40,50,[70,80],90],60],100]\n",
    "#[3,1,2,10,20,30,40,50,70,80,90,60,100]\n",
    "def fun(a):\n",
    "    b=[]\n",
    "    for i in a:\n",
    "        if isinstance(i,list):\n",
    "            b+=fun(i)\n",
    "        else:\n",
    "            b.append(i)\n",
    "    return b\n",
    "x=[3,[1,2],[10,20,[30,40,50,[70,80],90],60],100]\n",
    "print(fun(x))\n",
    "\n",
    "[3, 1, 2, 10, 20, 30, 40, 50, 70, 80, 90, 60, 100]"
   ]
  },
  {
   "cell_type": "code",
   "execution_count": 9,
   "id": "dfde0aaa",
   "metadata": {},
   "outputs": [
    {
     "name": "stdout",
     "output_type": "stream",
     "text": [
      "{'name': 'vinay', 'age': 25, 'salary': 250000, 'ph': 8545845153, 'address': 'mumbai'}\n"
     ]
    }
   ],
   "source": [
    "#dic = {\"name\":\"vinay\",\"age\":25,\"salary\":250000}\n",
    "#ic2 = {\"name\":\"vinay\",\"age\":30,\"salary\":250000,\"ph\":8545845153}\n",
    "#output = \"name\": \"vinay\",\"age\":25,\"salary\":250000,\"ph\":8545845153\n",
    "#dont create new dictionary,merge only\n",
    "dic = {\"name\":\"vinay\",\"age\":25,\"salary\":250000}\n",
    "dic2 = {\"name\":\"vinay\",\"age\":30,\"salary\":250000,\"ph\":8545845153}\n",
    "for i,j in dic2.items():\n",
    "    if i in dic:\n",
    "        pass\n",
    "    else:\n",
    "        dic[i]=j\n",
    "print(dic)\n",
    "{'name': 'vinay', 'age': 25, 'salary': 250000, 'ph': 8545845153, 'address': 'mumbai'}\n"
   ]
  },
  {
   "cell_type": "code",
   "execution_count": 6,
   "id": "f956ffa5",
   "metadata": {},
   "outputs": [
    {
     "name": "stdout",
     "output_type": "stream",
     "text": [
      "2\n",
      "3\n",
      "22\n",
      "33\n",
      "222\n",
      "333\n"
     ]
    }
   ],
   "source": []
  },
  {
   "cell_type": "code",
   "execution_count": 74,
   "id": "cd3faf07",
   "metadata": {},
   "outputs": [
    {
     "name": "stdout",
     "output_type": "stream",
     "text": [
      "The addition value is= 60\n",
      "The subtraction value is= 10\n"
     ]
    }
   ],
   "source": []
  },
  {
   "cell_type": "code",
   "execution_count": 11,
   "id": "eaba96f9",
   "metadata": {},
   "outputs": [
    {
     "name": "stdout",
     "output_type": "stream",
     "text": [
      "10\n",
      "50\n",
      "we can not place this order because of insurance\n"
     ]
    }
   ],
   "source": [
    "a=[10,50,500,10,20]\n",
    "for i in a:\n",
    "    if i>=500:\n",
    "        print(\"we can not place this order because of insurance\")\n",
    "        break\n",
    "    print(i)\n",
    "else:\n",
    "    print(\"congratuations\")"
   ]
  },
  {
   "cell_type": "code",
   "execution_count": null,
   "id": "37f6295a",
   "metadata": {},
   "outputs": [],
   "source": []
  },
  {
   "cell_type": "code",
   "execution_count": 4,
   "id": "0dd9cb1d",
   "metadata": {},
   "outputs": [
    {
     "name": "stdout",
     "output_type": "stream",
     "text": [
      "[3, 1, 12, 0, 0]\n"
     ]
    }
   ],
   "source": [
    "a = [0, 3, 1, 0, 12]\n",
    "#result = [x for x in a if x != 0] + [0 for _ in range(a.count(0))]\n",
    "result=[i for i in a if i!=0]+[i for i in a if i==0]\n",
    "print(result)"
   ]
  },
  {
   "cell_type": "code",
   "execution_count": null,
   "id": "f93f5d61",
   "metadata": {},
   "outputs": [],
   "source": [
    "CACHES={\n",
    "    'default':{\n",
    "        'BACKEND':'django.core.cache.backends.db.DatabaseCache',\n",
    "        'LOCATION':'my_cache_table',\n",
    "        'TIMEOUT':60,\n",
    "        'OPTIONS':{\n",
    "            'MAX_ENTRIES':1000\n",
    "        }\n",
    "    }\n",
    "}"
   ]
  },
  {
   "cell_type": "code",
   "execution_count": null,
   "id": "464a8b4b",
   "metadata": {},
   "outputs": [],
   "source": []
  }
 ],
 "metadata": {
  "kernelspec": {
   "display_name": "Python 3 (ipykernel)",
   "language": "python",
   "name": "python3"
  },
  "language_info": {
   "codemirror_mode": {
    "name": "ipython",
    "version": 3
   },
   "file_extension": ".py",
   "mimetype": "text/x-python",
   "name": "python",
   "nbconvert_exporter": "python",
   "pygments_lexer": "ipython3",
   "version": "3.11.5"
  }
 },
 "nbformat": 4,
 "nbformat_minor": 5
}
