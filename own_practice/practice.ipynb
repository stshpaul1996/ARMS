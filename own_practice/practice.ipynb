{
 "cells": [
  {
   "cell_type": "code",
   "execution_count": 1,
   "id": "863f2c7d",
   "metadata": {},
   "outputs": [
    {
     "name": "stdout",
     "output_type": "stream",
     "text": [
      "[1, 2, 3, 4]\n"
     ]
    }
   ],
   "source": [
    "a=[1,2,2,3,3,3,4]\n",
    "s =set(a)\n",
    "l =list(s)\n",
    "print(l)\n",
    "\n",
    "    "
   ]
  },
  {
   "cell_type": "code",
   "execution_count": 4,
   "id": "dfde0aaa",
   "metadata": {},
   "outputs": [
    {
     "name": "stdout",
     "output_type": "stream",
     "text": [
      "enter any number: 11\n",
      "prime number\n"
     ]
    }
   ],
   "source": [
    "n = int(input(\"enter any number: \"))\n",
    "for i in range(2,n):\n",
    "    if n % i == 0:\n",
    "        print(\"non prime\")\n",
    "        break\n",
    "else:\n",
    "    print(\"prime number\")"
   ]
  },
  {
   "cell_type": "code",
   "execution_count": 6,
   "id": "f956ffa5",
   "metadata": {},
   "outputs": [
    {
     "name": "stdout",
     "output_type": "stream",
     "text": [
      "2\n",
      "3\n",
      "22\n",
      "33\n",
      "222\n",
      "333\n"
     ]
    }
   ],
   "source": [
    "class A:\n",
    "    a = 2\n",
    "    b = 3\n",
    "    def add(cls):\n",
    "        print(cls.a)\n",
    "        print(cls.b)\n",
    "class B:\n",
    "    a1 = 22\n",
    "    b1 = 33\n",
    "    def add1(cls):\n",
    "        print(cls.a1)\n",
    "        print(cls.b1)\n",
    "class C(A,B):\n",
    "    a2 = 222\n",
    "    b2 = 333\n",
    "    def add2(cls):\n",
    "        print(cls.a2)\n",
    "        print(cls.b2)\n",
    "D = C()\n",
    "D.add()\n",
    "D.add1()\n",
    "D.add2()"
   ]
  },
  {
   "cell_type": "code",
   "execution_count": null,
   "id": "cd3faf07",
   "metadata": {},
   "outputs": [],
   "source": []
  },
  {
   "cell_type": "code",
   "execution_count": null,
   "id": "eaba96f9",
   "metadata": {},
   "outputs": [],
   "source": []
  },
  {
   "cell_type": "code",
   "execution_count": null,
   "id": "0dd9cb1d",
   "metadata": {},
   "outputs": [],
   "source": []
  }
 ],
 "metadata": {
  "kernelspec": {
   "display_name": "Python 3 (ipykernel)",
   "language": "python",
   "name": "python3"
  },
  "language_info": {
   "codemirror_mode": {
    "name": "ipython",
    "version": 3
   },
   "file_extension": ".py",
   "mimetype": "text/x-python",
   "name": "python",
   "nbconvert_exporter": "python",
   "pygments_lexer": "ipython3",
   "version": "3.11.5"
  }
 },
 "nbformat": 4,
 "nbformat_minor": 5
}
