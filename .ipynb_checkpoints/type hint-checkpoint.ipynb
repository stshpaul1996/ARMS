{
 "cells": [
  {
   "cell_type": "code",
   "execution_count": 1,
   "id": "9022eff1",
   "metadata": {},
   "outputs": [],
   "source": [
    "price:int=200"
   ]
  },
  {
   "cell_type": "code",
   "execution_count": 3,
   "id": "6373b84f",
   "metadata": {},
   "outputs": [
    {
     "name": "stdout",
     "output_type": "stream",
     "text": [
      "200\n"
     ]
    }
   ],
   "source": [
    "print(price)"
   ]
  },
  {
   "cell_type": "code",
   "execution_count": 4,
   "id": "edf07960",
   "metadata": {},
   "outputs": [
    {
     "name": "stdout",
     "output_type": "stream",
     "text": [
      "12.34\n"
     ]
    }
   ],
   "source": [
    "price=12.34\n",
    "print(price)"
   ]
  },
  {
   "cell_type": "code",
   "execution_count": 5,
   "id": "17ecf9da",
   "metadata": {},
   "outputs": [
    {
     "name": "stdout",
     "output_type": "stream",
     "text": [
      "1.2 3\n"
     ]
    }
   ],
   "source": [
    "def fun(x:int, y:float):\n",
    "    print(x,y)\n",
    "fun(1.2,3)"
   ]
  },
  {
   "cell_type": "code",
   "execution_count": 6,
   "id": "4a9ae57f",
   "metadata": {},
   "outputs": [
    {
     "name": "stdout",
     "output_type": "stream",
     "text": [
      "1.2 3\n"
     ]
    }
   ],
   "source": [
    "def fun(x:int | float, y:float | int):\n",
    "    print(x,y)\n",
    "fun(1.2,3)"
   ]
  },
  {
   "cell_type": "code",
   "execution_count": 7,
   "id": "224cfaed",
   "metadata": {},
   "outputs": [
    {
     "name": "stdout",
     "output_type": "stream",
     "text": [
      "Ellipsis\n"
     ]
    }
   ],
   "source": [
    "def fun(primary_key: bool = ...):\n",
    "    print(primary_key)\n",
    "fun()"
   ]
  },
  {
   "cell_type": "code",
   "execution_count": 8,
   "id": "1028794f",
   "metadata": {},
   "outputs": [
    {
     "name": "stdout",
     "output_type": "stream",
     "text": [
      "10\n"
     ]
    }
   ],
   "source": [
    "def fun(x=10):\n",
    "    print(x)\n",
    "fun()"
   ]
  },
  {
   "cell_type": "code",
   "execution_count": 9,
   "id": "d1a9860d",
   "metadata": {},
   "outputs": [
    {
     "name": "stdout",
     "output_type": "stream",
     "text": [
      "100\n"
     ]
    }
   ],
   "source": [
    "def fun(x=10):\n",
    "    print(x)\n",
    "fun(100)"
   ]
  },
  {
   "cell_type": "code",
   "execution_count": 10,
   "id": "ccd3b804",
   "metadata": {},
   "outputs": [
    {
     "name": "stdout",
     "output_type": "stream",
     "text": [
      "100\n"
     ]
    }
   ],
   "source": [
    "def fun(x: int=10):\n",
    "    print(x)\n",
    "fun(100)"
   ]
  },
  {
   "cell_type": "code",
   "execution_count": 11,
   "id": "3d59e5f9",
   "metadata": {},
   "outputs": [
    {
     "name": "stdout",
     "output_type": "stream",
     "text": [
      "100\n"
     ]
    }
   ],
   "source": [
    "def fun(x: int= ...):\n",
    "    print(x)\n",
    "fun(100)"
   ]
  },
  {
   "cell_type": "code",
   "execution_count": 12,
   "id": "088da8ce",
   "metadata": {},
   "outputs": [
    {
     "name": "stdout",
     "output_type": "stream",
     "text": [
      "Ellipsis\n"
     ]
    }
   ],
   "source": [
    "def fun(x: int= ...):\n",
    "    print(x)\n",
    "fun()"
   ]
  },
  {
   "cell_type": "code",
   "execution_count": null,
   "id": "7550818f",
   "metadata": {},
   "outputs": [],
   "source": []
  }
 ],
 "metadata": {
  "kernelspec": {
   "display_name": "Python 3 (ipykernel)",
   "language": "python",
   "name": "python3"
  },
  "language_info": {
   "codemirror_mode": {
    "name": "ipython",
    "version": 3
   },
   "file_extension": ".py",
   "mimetype": "text/x-python",
   "name": "python",
   "nbconvert_exporter": "python",
   "pygments_lexer": "ipython3",
   "version": "3.11.5"
  }
 },
 "nbformat": 4,
 "nbformat_minor": 5
}
