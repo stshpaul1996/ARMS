{
 "cells": [
  {
   "cell_type": "code",
   "execution_count": 2,
   "id": "25633018",
   "metadata": {},
   "outputs": [
    {
     "ename": "TypeError",
     "evalue": "'Sample' object is not callable",
     "output_type": "error",
     "traceback": [
      "\u001b[1;31m---------------------------------------------------------------------------\u001b[0m",
      "\u001b[1;31mTypeError\u001b[0m                                 Traceback (most recent call last)",
      "Cell \u001b[1;32mIn[2], line 7\u001b[0m\n\u001b[0;32m      4\u001b[0m         \u001b[38;5;28mself\u001b[39m\u001b[38;5;241m.\u001b[39my\u001b[38;5;241m=\u001b[39my\n\u001b[0;32m      6\u001b[0m s \u001b[38;5;241m=\u001b[39m Sample(\u001b[38;5;241m10\u001b[39m,\u001b[38;5;241m20\u001b[39m)\n\u001b[1;32m----> 7\u001b[0m s()\n",
      "\u001b[1;31mTypeError\u001b[0m: 'Sample' object is not callable"
     ]
    }
   ],
   "source": [
    "class Sample:\n",
    "    def __init__(self, x, y):\n",
    "        self.x=x\n",
    "        self.y=y\n",
    "        \n",
    "s = Sample(10,20)\n",
    "s()"
   ]
  },
  {
   "cell_type": "code",
   "execution_count": 3,
   "id": "f82fa5ef",
   "metadata": {},
   "outputs": [
    {
     "name": "stdout",
     "output_type": "stream",
     "text": [
      "10 20\n"
     ]
    }
   ],
   "source": [
    "class Sample:\n",
    "    def __init__(self, x, y):\n",
    "        self.x=x\n",
    "        self.y=y\n",
    "        \n",
    "    def __call__(self):\n",
    "        print(self.x, self.y)\n",
    "        \n",
    "s = Sample(10,20)\n",
    "s()"
   ]
  },
  {
   "cell_type": "code",
   "execution_count": null,
   "id": "7fe95a32",
   "metadata": {},
   "outputs": [],
   "source": []
  }
 ],
 "metadata": {
  "kernelspec": {
   "display_name": "Python 3 (ipykernel)",
   "language": "python",
   "name": "python3"
  },
  "language_info": {
   "codemirror_mode": {
    "name": "ipython",
    "version": 3
   },
   "file_extension": ".py",
   "mimetype": "text/x-python",
   "name": "python",
   "nbconvert_exporter": "python",
   "pygments_lexer": "ipython3",
   "version": "3.11.5"
  }
 },
 "nbformat": 4,
 "nbformat_minor": 5
}
